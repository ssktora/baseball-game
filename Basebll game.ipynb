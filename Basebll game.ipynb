{
 "cells": [
  {
   "cell_type": "markdown",
   "metadata": {},
   "source": [
    "# 野球ゲーム\n",
    "投手は4つのコースのいずれかに投げる。打者は4つのコースのいずれかをスイングする。投手が投げたコースと打者が振ったコースが一致したら5%の確率でホームラン、5%の確率でスリーベース、5%の確率でアウト、70%の確率でヒット、15%の確率でツーベースとする。一致しなかったときはストライクとなり、３ストライクになると三振でアウトになる。"
   ]
  },
  {
   "cell_type": "markdown",
   "metadata": {},
   "source": [
    "## 一球の勝負の関数を生成"
   ]
  },
  {
   "cell_type": "code",
   "execution_count": 53,
   "metadata": {},
   "outputs": [
    {
     "name": "stdout",
     "output_type": "stream",
     "text": [
      "数字を入力1\n",
      "あなたは内低めを選びました。\n",
      "対戦相手は外高めを選びました。\n",
      "ストライク\n"
     ]
    },
    {
     "data": {
      "text/plain": [
       "'strike'"
      ]
     },
     "execution_count": 53,
     "metadata": {},
     "output_type": "execute_result"
    }
   ],
   "source": [
    "import random\n",
    "course = {\"0\":\"内高め\",\"1\":\"内低め\",\"2\":\"外高め\",\"3\":\"外低め\"}\n",
    "def match():\n",
    "    player = str(input(\"数字を入力\"))\n",
    "    print(\"あなたは\" + course[player] + \"を選びました。\")\n",
    "    com = str(random.randrange(4))\n",
    "    print(\"対戦相手は\" + course[com] + \"を選びました。\")\n",
    "    if com == player:\n",
    "        roulette = random.randrange(100)\n",
    "        if roulette in [x for x in range(5)]:\n",
    "            print(\"ホームラン！！\")\n",
    "            return 4\n",
    "        elif roulette in [x for x in range(5, 10)]:\n",
    "            print(\"スリーベースヒット\")\n",
    "            return 3\n",
    "        elif roulette in [x for x in range(10, 15)]:\n",
    "            print(\"アウト\")\n",
    "            return \"out\"\n",
    "        elif roulette in [x for x in range(15, 85)]:\n",
    "            print(\"ヒット\")\n",
    "            return 1\n",
    "        else:\n",
    "            print(\"ツーベースヒット\")\n",
    "            return 2\n",
    "    else:\n",
    "        print(\"ストライク\")\n",
    "        return \"strike\"\n",
    "        \n",
    "match()"
   ]
  },
  {
   "cell_type": "markdown",
   "metadata": {},
   "source": [
    "## １打席の勝負の関数を生成"
   ]
  },
  {
   "cell_type": "code",
   "execution_count": 52,
   "metadata": {},
   "outputs": [
    {
     "name": "stdout",
     "output_type": "stream",
     "text": [
      "数字を入力2\n",
      "あなたは外高めを選びました。\n",
      "対戦相手は内高めを選びました。\n",
      "ストライク\n",
      "ストライクカウント 1\n",
      "数字を入力3\n",
      "あなたは外低めを選びました。\n",
      "対戦相手は外高めを選びました。\n",
      "ストライク\n",
      "ストライクカウント 2\n",
      "数字を入力3\n",
      "あなたは外低めを選びました。\n",
      "対戦相手は内高めを選びました。\n",
      "ストライク\n",
      "ストライクカウント 3\n",
      "三振\n"
     ]
    },
    {
     "data": {
      "text/plain": [
       "'out'"
      ]
     },
     "execution_count": 52,
     "metadata": {},
     "output_type": "execute_result"
    }
   ],
   "source": [
    "def at_bat():\n",
    "    strike_count = 0\n",
    "    while strike_count < 3:\n",
    "        one_ball = match()\n",
    "        if one_ball == \"strike\":\n",
    "            strike_count += 1\n",
    "            print(\"ストライクカウント\", strike_count)\n",
    "        else:\n",
    "            return one_ball\n",
    "    print(\"三振\")\n",
    "    return \"out\"\n",
    "\n",
    "at_bat()\n",
    "            "
   ]
  }
 ],
 "metadata": {
  "kernelspec": {
   "display_name": "Python 3",
   "language": "python",
   "name": "python3"
  },
  "language_info": {
   "codemirror_mode": {
    "name": "ipython",
    "version": 3
   },
   "file_extension": ".py",
   "mimetype": "text/x-python",
   "name": "python",
   "nbconvert_exporter": "python",
   "pygments_lexer": "ipython3",
   "version": "3.8.3"
  }
 },
 "nbformat": 4,
 "nbformat_minor": 4
}
